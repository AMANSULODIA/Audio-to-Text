{
 "cells": [
  {
   "cell_type": "code",
   "execution_count": 1,
   "metadata": {},
   "outputs": [
    {
     "name": "stderr",
     "output_type": "stream",
     "text": [
      "C:\\Users\\amans\\AppData\\Roaming\\Python\\Python311\\site-packages\\pydub\\utils.py:170: RuntimeWarning: Couldn't find ffmpeg or avconv - defaulting to ffmpeg, but may not work\n",
      "  warn(\"Couldn't find ffmpeg or avconv - defaulting to ffmpeg, but may not work\", RuntimeWarning)\n"
     ]
    }
   ],
   "source": [
    "import speech_recognition as sr\n",
    "from pydub import AudioSegment"
   ]
  },
  {
   "cell_type": "code",
   "execution_count": 2,
   "metadata": {},
   "outputs": [],
   "source": [
    "def audio_to_text(audio_file):\n",
    "    audio = AudioSegment.from_file(audio_file)\n",
    "    wav_file = \"temp.wav\"\n",
    "    audio.export(wav_file,format = \"wav\")\n",
    "    recognizer = sr.Recognizer()\n",
    "    with sr.AudioFile(wav_file)as file:\n",
    "        audio_data = recognizer.record(file)\n",
    "        try:\n",
    "            text = recognizer.recognize_google(audio_data)\n",
    "            return text\n",
    "        except sr.UnknownValueError:\n",
    "            return \"Sorry, I could not understand the audio\"\n",
    "        except sr.RequestError as e:\n",
    "            return f\"Could not request result:{e}\"\n",
    "        \n"
   ]
  },
  {
   "cell_type": "code",
   "execution_count": 3,
   "metadata": {},
   "outputs": [
    {
     "name": "stdout",
     "output_type": "stream",
     "text": [
      "for loop is used to perform the iteration whereas while loop does not perform the iteration for loop is used with list tuple dictionary whereas we cannot use the while loop on list set and dictionary\n"
     ]
    }
   ],
   "source": [
    "if __name__==\"__main__\":\n",
    "    audio_file = \"C:/Users/amans/Desktop/audio_to_text_audio_file.wav\"\n",
    "    result = audio_to_text(audio_file)\n",
    "    print(result)\n",
    "\n"
   ]
  }
 ],
 "metadata": {
  "kernelspec": {
   "display_name": "Python 3",
   "language": "python",
   "name": "python3"
  },
  "language_info": {
   "codemirror_mode": {
    "name": "ipython",
    "version": 3
   },
   "file_extension": ".py",
   "mimetype": "text/x-python",
   "name": "python",
   "nbconvert_exporter": "python",
   "pygments_lexer": "ipython3",
   "version": "3.11.4"
  }
 },
 "nbformat": 4,
 "nbformat_minor": 2
}
